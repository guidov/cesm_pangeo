{
 "cells": [
  {
   "cell_type": "markdown",
   "metadata": {},
   "source": [
    "# Calculating the Atlantic Meridional Overturning Circulation Maximum"
   ]
  },
  {
   "cell_type": "markdown",
   "metadata": {},
   "source": [
    "The Atlantic Meridional Overturning Circulation (AMOC) is an important component of the Earth’s climate system, characterized by a northward flow of warm, salty water in the upper layers of the Atlantic, and a southward flow of colder water in the deep Atlantic.\n",
    "\n",
    "Changes in this circulation have a profound impact on the global climate\n",
    "system, as indicated by paleoclimate records.\n",
    "\n",
    "This diagnostic is used to assess the stability or equilibrium characteristics of the Atlantic Circulation under both past and future climates simulated in long coupled climate models.\n",
    "\n",
    "$$ \\Psi_m(z,\\phi) = \\int_{z}^{0} \\int_{\\theta_e}^{\\theta_w} V \\ cos(\\phi) d\\theta dz $$\n",
    "Here $z$=depth ;   $\\theta$=longitude ;  $\\phi$=latitude\\ ;  $V$= meridional\\ velocity\n",
    "\n",
    "This diagnostic is often calculated during model runtime and saved at output. The standard practice is to look for the AMOC maximum below the thermocline and equitorial upwellling cells as well as between the latitudes of  20$^\\circ$N and 50$^\\circ$N\n",
    "\n",
    "See also NCAR's NCL implementation\n",
    "https://www.ncl.ucar.edu/Applications/moc.shtml\n",
    "\n",
    "Use Xarray to load the dataset and, as much as possible, to make the calculations (i.e use rolling mean: e.g. See\n",
    "https://github.com/pydata/xarray/pull/668)\n",
    "\n",
    "Similar to other use case example:\n",
    "https://github.com/naomi-henderson/pangeoMB/blob/master/covar-SingleYear-ver2.0.ipynb, https://gist.github.com/mrocklin/4800484676155745f3cf318bce2e78a4)\n",
    "\n",
    "\n",
    "The purpose of the this notebook is to test if we can get this simple diagnostic to run in a reasonable amount of time. For example can this be done faster than using PyReshaper (https://github.com/NCAR/PyReshaper) and then running the diagnostic on the individual MOC timeseries produced by PyReshaper.\n",
    "\n",
    "This is useful if you are interested in monitoring the 12 month rolling mean of the AMOC maximum of the simulation while the simulation is running. Similarily we could do the same with global average temperature (TREFHT, TS) or TOA radiation (FLNT - FSNT) to look for equilibrium.\n",
    "\n",
    "Bonus: Implement \"Streaming Datastreams\" with xarray as monlthly average model files appear (e.g. see http://matthewrocklin.com/blog/work/2017/10/16/streaming-dataframes-1)"
   ]
  },
  {
   "cell_type": "code",
   "execution_count": 1,
   "metadata": {
    "ExecuteTime": {
     "end_time": "2017-09-07T20:46:22.020034Z",
     "start_time": "2017-09-07T20:46:21.060891Z"
    }
   },
   "outputs": [],
   "source": [
    "import numpy as np\n",
    "import datetime\n",
    "import matplotlib as mpl\n",
    "from matplotlib import pyplot as plt\n",
    "from netCDF4 import Dataset\n",
    "import xarray as xr\n",
    "import pandas as pd\n",
    "from oceans.colormaps import cm as ocncm\n",
    "import glob\n",
    "\n",
    "%matplotlib inline"
   ]
  },
  {
   "cell_type": "code",
   "execution_count": 2,
   "metadata": {},
   "outputs": [
    {
     "name": "stdout",
     "output_type": "stream",
     "text": [
      "numpy version:  1.12.1\n",
      "matplotlib version:  2.0.2\n",
      "xarray version:  0.9.6-64-g2949558\n",
      "pandas version:  0.20.3\n"
     ]
    }
   ],
   "source": [
    "print(\"numpy version: \", np.__version__)\n",
    "print(\"matplotlib version: \", mpl.__version__)\n",
    "print(\"xarray version: \", xr.__version__)\n",
    "print(\"pandas version: \", pd.__version__)\n"
   ]
  },
  {
   "cell_type": "code",
   "execution_count": 3,
   "metadata": {
    "collapsed": true
   },
   "outputs": [],
   "source": [
    "# globing function for specific time range\n",
    "def fcesmocnyrmn(case, year, month):\n",
    "    return \"{0}.pop.h.{1:0=4d}-{2:0=2d}.nc\".format(case, year, month)"
   ]
  },
  {
   "cell_type": "code",
   "execution_count": 4,
   "metadata": {
    "collapsed": true
   },
   "outputs": [],
   "source": [
    "# for 12 months of data (these are used to get a specific time range on the model output\n",
    "# rather then just using glob and grabbing everything)\n",
    "def fcesmocnyr(case, year):\n",
    "    return [ \"{0}.pop.h.{1:0=4d}-{2:0=2d}.nc\".format(case, year, mn) for mn in range(1,13) ]"
   ]
  },
  {
   "cell_type": "code",
   "execution_count": 5,
   "metadata": {},
   "outputs": [
    {
     "name": "stdout",
     "output_type": "stream",
     "text": [
      "CPU times: user 18min 20s, sys: 35.7 s, total: 18min 56s\n",
      "Wall time: 1h 36min 13s\n"
     ]
    }
   ],
   "source": [
    "%%time\n",
    "# load up AMOC from monthly average CESM files, this is really slow and uses a lot of memory (45Gb)\n",
    "# This is not using dask-distributed\n",
    "casestr = 'cesmi6gafv1vdpmeanhy'\n",
    "ddir = \"/project/p/peltier/guido/archive/\"+casestr+\"/ocn/hist/\"\n",
    "startyr = 531 # start year of timeseries\n",
    "endyr = 799 # end year of timeseries\n",
    "strglob=[]\n",
    "for i in range(startyr,endyr):\n",
    "    strglob.append(fcesmocnyr(ddir+casestr, i))\n",
    "flat_list = [item for sublist in strglob for item in sublist]\n",
    "#print(flat_list)\n",
    "xrdata=xr.open_mfdataset(flat_list, engine='netcdf4', concat_dim='time', chunks={'time': 20}, decode_times=False)"
   ]
  },
  {
   "cell_type": "code",
   "execution_count": 6,
   "metadata": {},
   "outputs": [
    {
     "data": {
      "text/plain": [
       "<xarray.DataArray 'MOC' (time: 3216, transport_reg: 2, moc_comp: 3, moc_z: 61, lat_aux_grid: 380)>\n",
       "dask.array<shape=(3216, 2, 3, 61, 380), dtype=float64, chunksize=(1, 2, 3, 61, 380)>\n",
       "Coordinates:\n",
       "    transport_regions  (transport_reg) |S256 b'Global Ocean - Marginal Seas' ...\n",
       "  * lat_aux_grid       (lat_aux_grid) float32 -82.5012 -81.8294 -81.157 ...\n",
       "  * moc_z              (moc_z) float32 0.0 1000.0 2000.0 3000.0 4000.0 ...\n",
       "  * time               (time) float64 1.938e+05 1.939e+05 1.939e+05 ...\n",
       "Dimensions without coordinates: transport_reg, moc_comp\n",
       "Attributes:\n",
       "    long_name:     Meridional Overturning Circulation\n",
       "    units:         Sverdrups\n",
       "    coordinates:   lat_aux_grid moc_z moc_components transport_region time\n",
       "    cell_methods:  time: mean"
      ]
     },
     "execution_count": 6,
     "metadata": {},
     "output_type": "execute_result"
    }
   ],
   "source": [
    "xrdata[\"MOC\"]"
   ]
  },
  {
   "cell_type": "code",
   "execution_count": 7,
   "metadata": {},
   "outputs": [
    {
     "name": "stdout",
     "output_type": "stream",
     "text": [
      "CPU times: user 125 ms, sys: 1e+03 µs, total: 126 ms\n",
      "Wall time: 125 ms\n"
     ]
    }
   ],
   "source": [
    "%%time\n",
    "mocavg = xrdata[\"MOC\"].mean(axis=0)"
   ]
  },
  {
   "cell_type": "code",
   "execution_count": 8,
   "metadata": {},
   "outputs": [
    {
     "data": {
      "text/plain": [
       "<xarray.DataArray 'MOC' (transport_reg: 2, moc_comp: 3, moc_z: 61, lat_aux_grid: 380)>\n",
       "dask.array<shape=(2, 3, 61, 380), dtype=float64, chunksize=(2, 3, 61, 380)>\n",
       "Coordinates:\n",
       "    transport_regions  (transport_reg) |S256 b'Global Ocean - Marginal Seas' ...\n",
       "  * lat_aux_grid       (lat_aux_grid) float32 -82.5012 -81.8294 -81.157 ...\n",
       "  * moc_z              (moc_z) float32 0.0 1000.0 2000.0 3000.0 4000.0 ...\n",
       "Dimensions without coordinates: transport_reg, moc_comp"
      ]
     },
     "execution_count": 8,
     "metadata": {},
     "output_type": "execute_result"
    }
   ],
   "source": [
    "# Total mean AMOC of the timeseries\n",
    "mocavg"
   ]
  },
  {
   "cell_type": "code",
   "execution_count": 9,
   "metadata": {},
   "outputs": [],
   "source": [
    "lats = xrdata[\"lat_aux_grid\"].data\n",
    "depths = xrdata[\"moc_z\"].data\n"
   ]
  },
  {
   "cell_type": "code",
   "execution_count": 11,
   "metadata": {},
   "outputs": [],
   "source": [
    "# Eulerian AMOC is at coord [1,0,:,:]\n",
    "amoc_eul = mocavg[1, 0, :, :]\n"
   ]
  },
  {
   "cell_type": "code",
   "execution_count": 13,
   "metadata": {},
   "outputs": [
    {
     "name": "stdout",
     "output_type": "stream",
     "text": [
      "CPU times: user 22.5 s, sys: 9.78 s, total: 32.3 s\n",
      "Wall time: 11 s\n"
     ]
    },
    {
     "data": {
      "text/plain": [
       "<matplotlib.contour.QuadContourSet at 0x7f6f5f6bac18>"
      ]
     },
     "execution_count": 13,
     "metadata": {},
     "output_type": "execute_result"
    },
    {
     "data": {
      "image/png": "[encoded data removed]",
      "text/plain": [
       "<matplotlib.figure.Figure at 0x7f6f5f8d2198>"
      ]
     },
     "metadata": {},
     "output_type": "display_data"
    }
   ],
   "source": [
    "%%time\n",
    "# plot the average AMOC\n",
    "plt.contourf(lats , -depths/100., amoc_eul)"
   ]
  },
  {
   "cell_type": "code",
   "execution_count": 14,
   "metadata": {
    "collapsed": true
   },
   "outputs": [],
   "source": [
    "# do a 12 month rolling mean (This seems to be fixed in the newer verisions of xarray)\n",
    "mocroll = xrdata[\"MOC\"].rolling(time=12)"
   ]
  },
  {
   "cell_type": "code",
   "execution_count": 15,
   "metadata": {},
   "outputs": [
    {
     "data": {
      "text/plain": [
       "DataArrayRolling [window->12,center->False,dim->time]"
      ]
     },
     "execution_count": 15,
     "metadata": {},
     "output_type": "execute_result"
    }
   ],
   "source": [
    "mocroll"
   ]
  },
  {
   "cell_type": "code",
   "execution_count": 17,
   "metadata": {},
   "outputs": [
    {
     "ename": "ValueError",
     "evalue": "The overlapping depth 11 is larger than your\nsmallest chunk size 1. Rechunk your array\nwith a larger chunk size or a chunk size that\nmore evenly divides the shape of your array.",
     "output_type": "error",
     "traceback": [
      "\u001b[0;31m---------------------------------------------------------------------------\u001b[0m",
      "\u001b[0;31mValueError\u001b[0m                                Traceback (most recent call last)",
      "\u001b[0;32m<ipython-input-17-6171a4e1602a>\u001b[0m in \u001b[0;36m<module>\u001b[0;34m()\u001b[0m\n\u001b[0;32m----> 1\u001b[0;31m \u001b[0mmocavg_rollmean\u001b[0m \u001b[0;34m=\u001b[0m \u001b[0mmocroll\u001b[0m\u001b[0;34m.\u001b[0m\u001b[0mmean\u001b[0m\u001b[0;34m(\u001b[0m\u001b[0;34m)\u001b[0m\u001b[0;34m\u001b[0m\u001b[0m\n\u001b[0m\u001b[1;32m      2\u001b[0m \u001b[0;31m#NotImplementedError: Rolling window operation does not work with dask arrays\u001b[0m\u001b[0;34m\u001b[0m\u001b[0;34m\u001b[0m\u001b[0m\n",
      "\u001b[0;32m/project/p/peltier/guido/anaconda3/lib/python3.6/site-packages/xarray-0.9.6_64_g2949558-py3.6.egg/xarray/core/rolling.py\u001b[0m in \u001b[0;36mwrapped_func\u001b[0;34m(self, **kwargs)\u001b[0m\n\u001b[1;32m    252\u001b[0m                                               \u001b[0mwindow\u001b[0m\u001b[0;34m=\u001b[0m\u001b[0mself\u001b[0m\u001b[0;34m.\u001b[0m\u001b[0mwindow\u001b[0m\u001b[0;34m,\u001b[0m\u001b[0;34m\u001b[0m\u001b[0m\n\u001b[1;32m    253\u001b[0m                                               \u001b[0mmin_count\u001b[0m\u001b[0;34m=\u001b[0m\u001b[0mmin_count\u001b[0m\u001b[0;34m,\u001b[0m\u001b[0;34m\u001b[0m\u001b[0m\n\u001b[0;32m--> 254\u001b[0;31m                                               axis=axis)\n\u001b[0m\u001b[1;32m    255\u001b[0m             \u001b[0;32melse\u001b[0m\u001b[0;34m:\u001b[0m\u001b[0;34m\u001b[0m\u001b[0m\n\u001b[1;32m    256\u001b[0m                 values = func(self.obj.data, window=self.window,\n",
      "\u001b[0;32m/project/p/peltier/guido/anaconda3/lib/python3.6/site-packages/xarray-0.9.6_64_g2949558-py3.6.egg/xarray/core/dask_array_ops.py\u001b[0m in \u001b[0;36mdask_rolling_wrapper\u001b[0;34m(moving_func, a, window, min_count, axis)\u001b[0m\n\u001b[1;32m     18\u001b[0m     \u001b[0mboundary\u001b[0m \u001b[0;34m=\u001b[0m \u001b[0;34m{\u001b[0m\u001b[0md\u001b[0m\u001b[0;34m:\u001b[0m \u001b[0mnp\u001b[0m\u001b[0;34m.\u001b[0m\u001b[0mnan\u001b[0m \u001b[0;32mfor\u001b[0m \u001b[0md\u001b[0m \u001b[0;32min\u001b[0m \u001b[0mrange\u001b[0m\u001b[0;34m(\u001b[0m\u001b[0ma\u001b[0m\u001b[0;34m.\u001b[0m\u001b[0mndim\u001b[0m\u001b[0;34m)\u001b[0m\u001b[0;34m}\u001b[0m\u001b[0;34m\u001b[0m\u001b[0m\n\u001b[1;32m     19\u001b[0m     \u001b[0;31m# create ghosted arrays\u001b[0m\u001b[0;34m\u001b[0m\u001b[0;34m\u001b[0m\u001b[0m\n\u001b[0;32m---> 20\u001b[0;31m     \u001b[0mag\u001b[0m \u001b[0;34m=\u001b[0m \u001b[0mda\u001b[0m\u001b[0;34m.\u001b[0m\u001b[0mghost\u001b[0m\u001b[0;34m.\u001b[0m\u001b[0mghost\u001b[0m\u001b[0;34m(\u001b[0m\u001b[0ma\u001b[0m\u001b[0;34m,\u001b[0m \u001b[0mdepth\u001b[0m\u001b[0;34m=\u001b[0m\u001b[0mdepth\u001b[0m\u001b[0;34m,\u001b[0m \u001b[0mboundary\u001b[0m\u001b[0;34m=\u001b[0m\u001b[0mboundary\u001b[0m\u001b[0;34m)\u001b[0m\u001b[0;34m\u001b[0m\u001b[0m\n\u001b[0m\u001b[1;32m     21\u001b[0m     \u001b[0;31m# apply rolling func\u001b[0m\u001b[0;34m\u001b[0m\u001b[0;34m\u001b[0m\u001b[0m\n\u001b[1;32m     22\u001b[0m     out = ag.map_blocks(moving_func, window, min_count=min_count,\n",
      "\u001b[0;32m/project/p/peltier/guido/anaconda3/lib/python3.6/site-packages/dask/array/ghost.py\u001b[0m in \u001b[0;36mghost\u001b[0;34m(x, depth, boundary)\u001b[0m\n\u001b[1;32m    342\u001b[0m                              \u001b[0;34m\"with a larger chunk size or a chunk size that\\n\"\u001b[0m\u001b[0;34m\u001b[0m\u001b[0m\n\u001b[1;32m    343\u001b[0m                              \u001b[0;34m\"more evenly divides the shape of your array.\"\u001b[0m \u001b[0;34m%\u001b[0m\u001b[0;34m\u001b[0m\u001b[0m\n\u001b[0;32m--> 344\u001b[0;31m                              (d, min(c)))\n\u001b[0m\u001b[1;32m    345\u001b[0m     \u001b[0mx2\u001b[0m \u001b[0;34m=\u001b[0m \u001b[0mboundaries\u001b[0m\u001b[0;34m(\u001b[0m\u001b[0mx\u001b[0m\u001b[0;34m,\u001b[0m \u001b[0mdepth2\u001b[0m\u001b[0;34m,\u001b[0m \u001b[0mboundary2\u001b[0m\u001b[0;34m)\u001b[0m\u001b[0;34m\u001b[0m\u001b[0m\n\u001b[1;32m    346\u001b[0m     \u001b[0mx3\u001b[0m \u001b[0;34m=\u001b[0m \u001b[0mghost_internal\u001b[0m\u001b[0;34m(\u001b[0m\u001b[0mx2\u001b[0m\u001b[0;34m,\u001b[0m \u001b[0mdepth2\u001b[0m\u001b[0;34m)\u001b[0m\u001b[0;34m\u001b[0m\u001b[0m\n",
      "\u001b[0;31mValueError\u001b[0m: The overlapping depth 11 is larger than your\nsmallest chunk size 1. Rechunk your array\nwith a larger chunk size or a chunk size that\nmore evenly divides the shape of your array."
     ]
    }
   ],
   "source": [
    "mocavg_rollmean = mocroll.mean()\n",
    "#NotImplementedError: Rolling window operation does not work with dask arrays"
   ]
  },
  {
   "cell_type": "code",
   "execution_count": 18,
   "metadata": {
    "collapsed": true
   },
   "outputs": [],
   "source": [
    "def rolling_window(a, window):\n",
    "    shape = a.shape[:-1] + (a.shape[-1] - window + 1, window)\n",
    "    strides = a.strides + (a.strides[-1],)\n",
    "    return np.lib.stride_tricks.as_strided(a, shape=shape, strides=strides)\n"
   ]
  },
  {
   "cell_type": "code",
   "execution_count": 19,
   "metadata": {
    "collapsed": true
   },
   "outputs": [],
   "source": [
    "### The CESM Eulerian Atlantic MOC timeseries (time, depth, latitude) is at index [:,1,0,:,:]"
   ]
  },
  {
   "cell_type": "code",
   "execution_count": 20,
   "metadata": {
    "collapsed": true
   },
   "outputs": [],
   "source": [
    "amocdata = xrdata[\"MOC\"][:,1,0,:,:].data"
   ]
  },
  {
   "cell_type": "code",
   "execution_count": 21,
   "metadata": {},
   "outputs": [
    {
     "data": {
      "text/plain": [
       "dask.array<getitem, shape=(3216, 61, 380), dtype=float64, chunksize=(1, 61, 380)>"
      ]
     },
     "execution_count": 21,
     "metadata": {},
     "output_type": "execute_result"
    }
   ],
   "source": [
    "amocdata"
   ]
  },
  {
   "cell_type": "code",
   "execution_count": 22,
   "metadata": {},
   "outputs": [
    {
     "ename": "AttributeError",
     "evalue": "'Array' object has no attribute 'strides'",
     "output_type": "error",
     "traceback": [
      "\u001b[0;31m---------------------------------------------------------------------------\u001b[0m",
      "\u001b[0;31mAttributeError\u001b[0m                            Traceback (most recent call last)",
      "\u001b[0;32m<ipython-input-22-de47d71d0c47>\u001b[0m in \u001b[0;36m<module>\u001b[0;34m()\u001b[0m\n\u001b[0;32m----> 1\u001b[0;31m \u001b[0mamocroll_alt\u001b[0m \u001b[0;34m=\u001b[0m \u001b[0mrolling_window\u001b[0m\u001b[0;34m(\u001b[0m\u001b[0mxrdata\u001b[0m\u001b[0;34m[\u001b[0m\u001b[0;34m\"MOC\"\u001b[0m\u001b[0;34m]\u001b[0m\u001b[0;34m.\u001b[0m\u001b[0mdata\u001b[0m\u001b[0;34m,\u001b[0m\u001b[0;36m12\u001b[0m\u001b[0;34m)\u001b[0m\u001b[0;34m\u001b[0m\u001b[0m\n\u001b[0m",
      "\u001b[0;32m<ipython-input-18-547ef4fc4e3d>\u001b[0m in \u001b[0;36mrolling_window\u001b[0;34m(a, window)\u001b[0m\n\u001b[1;32m      1\u001b[0m \u001b[0;32mdef\u001b[0m \u001b[0mrolling_window\u001b[0m\u001b[0;34m(\u001b[0m\u001b[0ma\u001b[0m\u001b[0;34m,\u001b[0m \u001b[0mwindow\u001b[0m\u001b[0;34m)\u001b[0m\u001b[0;34m:\u001b[0m\u001b[0;34m\u001b[0m\u001b[0m\n\u001b[1;32m      2\u001b[0m     \u001b[0mshape\u001b[0m \u001b[0;34m=\u001b[0m \u001b[0ma\u001b[0m\u001b[0;34m.\u001b[0m\u001b[0mshape\u001b[0m\u001b[0;34m[\u001b[0m\u001b[0;34m:\u001b[0m\u001b[0;34m-\u001b[0m\u001b[0;36m1\u001b[0m\u001b[0;34m]\u001b[0m \u001b[0;34m+\u001b[0m \u001b[0;34m(\u001b[0m\u001b[0ma\u001b[0m\u001b[0;34m.\u001b[0m\u001b[0mshape\u001b[0m\u001b[0;34m[\u001b[0m\u001b[0;34m-\u001b[0m\u001b[0;36m1\u001b[0m\u001b[0;34m]\u001b[0m \u001b[0;34m-\u001b[0m \u001b[0mwindow\u001b[0m \u001b[0;34m+\u001b[0m \u001b[0;36m1\u001b[0m\u001b[0;34m,\u001b[0m \u001b[0mwindow\u001b[0m\u001b[0;34m)\u001b[0m\u001b[0;34m\u001b[0m\u001b[0m\n\u001b[0;32m----> 3\u001b[0;31m     \u001b[0mstrides\u001b[0m \u001b[0;34m=\u001b[0m \u001b[0ma\u001b[0m\u001b[0;34m.\u001b[0m\u001b[0mstrides\u001b[0m \u001b[0;34m+\u001b[0m \u001b[0;34m(\u001b[0m\u001b[0ma\u001b[0m\u001b[0;34m.\u001b[0m\u001b[0mstrides\u001b[0m\u001b[0;34m[\u001b[0m\u001b[0;34m-\u001b[0m\u001b[0;36m1\u001b[0m\u001b[0;34m]\u001b[0m\u001b[0;34m,\u001b[0m\u001b[0;34m)\u001b[0m\u001b[0;34m\u001b[0m\u001b[0m\n\u001b[0m\u001b[1;32m      4\u001b[0m     \u001b[0;32mreturn\u001b[0m \u001b[0mnp\u001b[0m\u001b[0;34m.\u001b[0m\u001b[0mlib\u001b[0m\u001b[0;34m.\u001b[0m\u001b[0mstride_tricks\u001b[0m\u001b[0;34m.\u001b[0m\u001b[0mas_strided\u001b[0m\u001b[0;34m(\u001b[0m\u001b[0ma\u001b[0m\u001b[0;34m,\u001b[0m \u001b[0mshape\u001b[0m\u001b[0;34m=\u001b[0m\u001b[0mshape\u001b[0m\u001b[0;34m,\u001b[0m \u001b[0mstrides\u001b[0m\u001b[0;34m=\u001b[0m\u001b[0mstrides\u001b[0m\u001b[0;34m)\u001b[0m\u001b[0;34m\u001b[0m\u001b[0m\n",
      "\u001b[0;31mAttributeError\u001b[0m: 'Array' object has no attribute 'strides'"
     ]
    }
   ],
   "source": [
    "amocroll_alt = rolling_window(xrdata[\"MOC\"].data,12)"
   ]
  },
  {
   "cell_type": "code",
   "execution_count": 24,
   "metadata": {
    "collapsed": true
   },
   "outputs": [],
   "source": [
    "def amoc_rollmean(array, window):\n",
    "    newarray = np.ma.masked_all(array.shape)\n",
    "    np.ma.masked_equal(newarray, 0)\n",
    "    w2 = int(window/2.0)\n",
    "    for i in range(array.shape[0] - window + 1):\n",
    "        arraytmp_sum = np.ma.zeros(array.shape[1:])\n",
    "        for j in range(window):\n",
    "            arraytmp_sum = np.ma.add(arraytmp_sum, array[j+i,...])\n",
    "        arraytmp_mean = np.ma.divide(arraytmp_sum, window)\n",
    "        newarray[w2+i,...] = arraytmp_mean\n",
    "        \n",
    "    return newarray"
   ]
  },
  {
   "cell_type": "code",
   "execution_count": 25,
   "metadata": {},
   "outputs": [
    {
     "name": "stdout",
     "output_type": "stream",
     "text": [
      "CPU times: user 4min 53s, sys: 3.37 s, total: 4min 57s\n",
      "Wall time: 4min 53s\n"
     ]
    }
   ],
   "source": [
    "%%time\n",
    "amoc_mean = amoc_rollmean(amocdata, 12)"
   ]
  },
  {
   "cell_type": "code",
   "execution_count": 26,
   "metadata": {},
   "outputs": [
    {
     "data": {
      "text/plain": [
       "(3216, 61, 380)"
      ]
     },
     "execution_count": 26,
     "metadata": {},
     "output_type": "execute_result"
    }
   ],
   "source": [
    "amoc_mean.shape"
   ]
  },
  {
   "cell_type": "code",
   "execution_count": 27,
   "metadata": {},
   "outputs": [
    {
     "data": {
      "text/plain": [
       "<matplotlib.contour.QuadContourSet at 0x7f6f5f3254e0>"
      ]
     },
     "execution_count": 27,
     "metadata": {},
     "output_type": "execute_result"
    },
    {
     "data": {
      "image/png": "[encoded data removed]",
      "text/plain": [
       "<matplotlib.figure.Figure at 0x7f6f5f56fe10>"
      ]
     },
     "metadata": {},
     "output_type": "display_data"
    }
   ],
   "source": [
    "plt.contourf(lats, -depths/100., amoc_mean[40,...]) # plot some arbitrary point in the rolling mean"
   ]
  },
  {
   "cell_type": "code",
   "execution_count": 28,
   "metadata": {},
   "outputs": [
    {
     "name": "stdout",
     "output_type": "stream",
     "text": [
      "46176.7\n",
      "207487.0\n"
     ]
    }
   ],
   "source": [
    "# depth span we are interested in (units cm)\n",
    "print(xrdata[\"moc_z\"].data[32])\n",
    "print(xrdata[\"moc_z\"].data[46])"
   ]
  },
  {
   "cell_type": "code",
   "execution_count": 29,
   "metadata": {},
   "outputs": [
    {
     "name": "stdout",
     "output_type": "stream",
     "text": [
      "19.8797\n",
      "49.9698\n"
     ]
    }
   ],
   "source": [
    "# latitude span we are interested in (units cm)\n",
    "print(xrdata[\"lat_aux_grid\"].data[253])\n",
    "print(xrdata[\"lat_aux_grid\"].data[315])\n"
   ]
  },
  {
   "cell_type": "code",
   "execution_count": 30,
   "metadata": {
    "collapsed": true
   },
   "outputs": [],
   "source": [
    "# should be able to improve indexing with pandas range indexing get_loc ?\n",
    "def get_moc_max(mocarray):\n",
    "    # array: timeseries of AMOC\n",
    "    # return: timeseries of AMOC max\n",
    "    # Eulerian Mean MOC ; no boundary layer (and AMOC > 20 ;  AMOC < 50 N)\n",
    "    amocgrid = mocarray[:,32:46,253:315]\n",
    "    amocmax = np.array( [ np.ma.max(amocgrid[i]) for i in range(amocgrid.shape[0]) ] )\n",
    "    return amocmax"
   ]
  },
  {
   "cell_type": "code",
   "execution_count": 31,
   "metadata": {},
   "outputs": [
    {
     "name": "stderr",
     "output_type": "stream",
     "text": [
      "/project/p/peltier/guido/anaconda3/lib/python3.6/site-packages/ipykernel/__main__.py:7: UserWarning: Warning: converting a masked element to nan.\n"
     ]
    }
   ],
   "source": [
    "amoc_max = get_moc_max(amoc_mean)"
   ]
  },
  {
   "cell_type": "code",
   "execution_count": 32,
   "metadata": {
    "collapsed": true
   },
   "outputs": [],
   "source": [
    "stime = xrdata[\"time\"].data/365."
   ]
  },
  {
   "cell_type": "code",
   "execution_count": 35,
   "metadata": {},
   "outputs": [
    {
     "data": {
      "text/plain": [
       "<matplotlib.text.Text at 0x7f6f5f274208>"
      ]
     },
     "execution_count": 35,
     "metadata": {},
     "output_type": "execute_result"
    },
    {
     "data": {
      "image/png": "[encoded data removed]",
      "text/plain": [
       "<matplotlib.figure.Figure at 0x7f6f5f134748>"
      ]
     },
     "metadata": {},
     "output_type": "display_data"
    }
   ],
   "source": [
    "plt.plot(stime, amoc_max)\n",
    "plt.xlabel(\"Year\")\n",
    "plt.ylabel(\"AMOC Max\")"
   ]
  }
 ],
 "metadata": {
  "kernelspec": {
   "display_name": "Python (conda3)",
   "language": "python",
   "name": "conda3"
  },
  "language_info": {
   "codemirror_mode": {
    "name": "ipython",
    "version": 3
   },
   "file_extension": ".py",
   "mimetype": "text/x-python",
   "name": "python",
   "nbconvert_exporter": "python",
   "pygments_lexer": "ipython3",
   "version": "3.6.1"
  },
  "latex_envs": {
   "LaTeX_envs_menu_present": true,
   "bibliofile": "biblio.bib",
   "cite_by": "apalike",
   "current_citInitial": 1,
   "eqLabelWithNumbers": true,
   "eqNumInitial": 1,
   "hotkeys": {
    "equation": "Ctrl-E",
    "itemize": "Ctrl-I"
   },
   "labels_anchors": false,
   "latex_user_defs": false,
   "report_style_numbering": false,
   "user_envs_cfg": false
  }
 },
 "nbformat": 4,
 "nbformat_minor": 2
}
